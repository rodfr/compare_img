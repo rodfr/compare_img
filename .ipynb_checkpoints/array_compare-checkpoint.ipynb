{
 "cells": [
  {
   "cell_type": "markdown",
   "metadata": {},
   "source": [
    "### How to compare small images quickly?\n",
    "we'll try to see different ways to do this :-)"
   ]
  },
  {
   "cell_type": "code",
   "execution_count": 3,
   "metadata": {
    "collapsed": false
   },
   "outputs": [
    {
     "name": "stdout",
     "output_type": "stream",
     "text": [
      "2.7.11\n",
      "1.10.4 , 1.5.1\n"
     ]
    }
   ],
   "source": [
    "%matplotlib inline\n",
    "import time\n",
    "import numpy as np\n",
    "import matplotlib\n",
    "import matplotlib.pylab as plt\n",
    "import platform; print platform.python_version()\n",
    "print np.__version__,',', matplotlib.__version__"
   ]
  },
  {
   "cell_type": "markdown",
   "metadata": {},
   "source": [
    "We'll build n = 2000 images, n1 original images, and we'll stack n2 images which are repeated"
   ]
  },
  {
   "cell_type": "code",
   "execution_count": 50,
   "metadata": {
    "collapsed": true
   },
   "outputs": [],
   "source": [
    "n = 2000\n",
    "n1 = 1900\n",
    "n2 = 100"
   ]
  },
  {
   "cell_type": "code",
   "execution_count": 51,
   "metadata": {
    "collapsed": false
   },
   "outputs": [
    {
     "name": "stdout",
     "output_type": "stream",
     "text": [
      "[ 846 1595 1430 1716  377 1717 1460  372 1003  538  930   95  146 1811 1560\n",
      " 1738  313  216  169  661  289 1829 1859 1114 1680  945  591 1764 1590 1149\n",
      " 1844 1408 1663  275 1046   16 1342  846  631 1694 1599  242  566  339  910\n",
      "  141 1471   67  671 1323    8 1508  408 1615  847 1493   16 1590  929 1452\n",
      " 1823 1861 1363 1283 1229  893 1518 1198   93 1262  468  663  937 1132 1835\n",
      " 1008 1018 1598 1730 1704 1514    4 1397 1527 1063  471  686  519 1548 1290\n",
      "  382 1033  839  890 1746 1558  696 1890 1230 1544]\n",
      "(2000, 28, 28)\n"
     ]
    }
   ],
   "source": [
    "myarr = np.random.rand(n1,28,28)\n",
    "rand_idx = np.random.randint(n1, size = n2)\n",
    "print rand_idx\n",
    "for k in rand_idx:\n",
    "    img = np.multiply(myarr[k,:,:],np.ones((1,28,28)))\n",
    "    #print img.shape,myarr.shape\n",
    "    myarr = np.vstack((myarr,img))\n",
    "print myarr.shape"
   ]
  },
  {
   "cell_type": "markdown",
   "metadata": {},
   "source": [
    "How are the repeated images distributed?"
   ]
  },
  {
   "cell_type": "code",
   "execution_count": 57,
   "metadata": {
    "collapsed": false
   },
   "outputs": [
    {
     "data": {
      "image/png": "[encoded data removed]",
      "text/plain": [
       "<matplotlib.figure.Figure at 0x10fd5da10>"
      ]
     },
     "metadata": {},
     "output_type": "display_data"
    }
   ],
   "source": [
    "plt.hist(rand_idx, n1-1, facecolor='green', alpha=0.75);"
   ]
  },
  {
   "cell_type": "code",
   "execution_count": 58,
   "metadata": {
    "collapsed": false
   },
   "outputs": [
    {
     "data": {
      "text/plain": [
       "array([ 0.90882275,  0.41051857,  0.24015453,  0.16241171,  0.80595952,\n",
       "        0.74634639,  0.84755758,  0.12613514,  0.56423366,  0.08141913,\n",
       "        0.33187244,  0.51659969,  0.81216624,  0.9154222 ,  0.04336505,\n",
       "        0.76994691,  0.9245213 ,  0.20139915,  0.95590763,  0.96181987,\n",
       "        0.18789981,  0.62947234,  0.49192475,  0.96548968,  0.07092321,\n",
       "        0.61806399,  0.46903389,  0.5355342 ])"
      ]
     },
     "execution_count": 58,
     "metadata": {},
     "output_type": "execute_result"
    }
   ],
   "source": [
    "myarr[rand_idx[-1],0,:]"
   ]
  },
  {
   "cell_type": "code",
   "execution_count": 60,
   "metadata": {
    "collapsed": false
   },
   "outputs": [
    {
     "data": {
      "text/plain": [
       "array([ 0.90882275,  0.41051857,  0.24015453,  0.16241171,  0.80595952,\n",
       "        0.74634639,  0.84755758,  0.12613514,  0.56423366,  0.08141913,\n",
       "        0.33187244,  0.51659969,  0.81216624,  0.9154222 ,  0.04336505,\n",
       "        0.76994691,  0.9245213 ,  0.20139915,  0.95590763,  0.96181987,\n",
       "        0.18789981,  0.62947234,  0.49192475,  0.96548968,  0.07092321,\n",
       "        0.61806399,  0.46903389,  0.5355342 ])"
      ]
     },
     "execution_count": 60,
     "metadata": {},
     "output_type": "execute_result"
    }
   ],
   "source": [
    "myarr[1999,0,:]"
   ]
  },
  {
   "cell_type": "markdown",
   "metadata": {},
   "source": [
    "There is an array_equal numpy function, and we can be sure that it works with the help of np.imshow()"
   ]
  },
  {
   "cell_type": "code",
   "execution_count": 62,
   "metadata": {
    "collapsed": false
   },
   "outputs": [
    {
     "data": {
      "text/plain": [
       "True"
      ]
     },
     "execution_count": 62,
     "metadata": {},
     "output_type": "execute_result"
    }
   ],
   "source": [
    "np.array_equal(myarr[rand_idx[-1],:,:],myarr[1999,:,:])"
   ]
  },
  {
   "cell_type": "markdown",
   "metadata": {},
   "source": [
    "Convince yourself that the following are exactly the same images :-)"
   ]
  },
  {
   "cell_type": "code",
   "execution_count": 63,
   "metadata": {
    "collapsed": false
   },
   "outputs": [
    {
     "data": {
      "text/plain": [
       "<matplotlib.image.AxesImage at 0x10ff21a10>"
      ]
     },
     "execution_count": 63,
     "metadata": {},
     "output_type": "execute_result"
    },
    {
     "data": {
      "image/png": "[encoded data removed]",
      "text/plain": [
       "<matplotlib.figure.Figure at 0x10ff2db90>"
      ]
     },
     "metadata": {},
     "output_type": "display_data"
    }
   ],
   "source": [
    "plt.figure()\n",
    "plt.imshow(myarr[rand_idx[-1],:,:],interpolation='nearest')"
   ]
  },
  {
   "cell_type": "code",
   "execution_count": 64,
   "metadata": {
    "collapsed": false
   },
   "outputs": [
    {
     "data": {
      "text/plain": [
       "<matplotlib.image.AxesImage at 0x1101820d0>"
      ]
     },
     "execution_count": 64,
     "metadata": {},
     "output_type": "execute_result"
    },
    {
     "data": {
      "image/png": "[encoded data removed]",
      "text/plain": [
       "<matplotlib.figure.Figure at 0x10ff46950>"
      ]
     },
     "metadata": {},
     "output_type": "display_data"
    }
   ],
   "source": [
    "plt.figure()\n",
    "plt.imshow(myarr[1999,:,:],interpolation='nearest')"
   ]
  },
  {
   "cell_type": "markdown",
   "metadata": {},
   "source": [
    "## Now let's see the times spent:\n",
    "_____\n",
    "\n",
    "**Version 1**: built-it function"
   ]
  },
  {
   "cell_type": "code",
   "execution_count": 65,
   "metadata": {
    "collapsed": false
   },
   "outputs": [
    {
     "name": "stdout",
     "output_type": "stream",
     "text": [
      "CPU times: user 13.4 s, sys: 23.2 ms, total: 13.5 s\n",
      "Wall time: 13.5 s\n"
     ]
    }
   ],
   "source": [
    "%%time\n",
    "\n",
    "count = 0\n",
    "for i in range(n):\n",
    "    for j in range(i+1,n):\n",
    "        if np.array_equal( myarr[i,:,:],myarr[j,:,:]):            \n",
    "            count +=1"
   ]
  },
  {
   "cell_type": "code",
   "execution_count": 66,
   "metadata": {
    "collapsed": false
   },
   "outputs": [
    {
     "name": "stdout",
     "output_type": "stream",
     "text": [
      "103\n"
     ]
    }
   ],
   "source": [
    "print count"
   ]
  },
  {
   "cell_type": "markdown",
   "metadata": {},
   "source": [
    "**Version 2**: what about doing a first check: let's compare one pixel"
   ]
  },
  {
   "cell_type": "code",
   "execution_count": 67,
   "metadata": {
    "collapsed": false
   },
   "outputs": [
    {
     "name": "stdout",
     "output_type": "stream",
     "text": [
      "CPU times: user 1.2 s, sys: 6.16 ms, total: 1.21 s\n",
      "Wall time: 1.22 s\n"
     ]
    }
   ],
   "source": [
    "%%time\n",
    "count = 0\n",
    "for i in range(n):\n",
    "    for j in range(i+1,n):\n",
    "        if myarr[i,0,0] ==myarr[j,0,0]:\n",
    "            if np.array_equal( myarr[i,:,:],myarr[j,:,:]):\n",
    "                count +=1"
   ]
  },
  {
   "cell_type": "code",
   "execution_count": 68,
   "metadata": {
    "collapsed": false
   },
   "outputs": [
    {
     "name": "stdout",
     "output_type": "stream",
     "text": [
      "103\n"
     ]
    }
   ],
   "source": [
    "print count"
   ]
  },
  {
   "cell_type": "markdown",
   "metadata": {},
   "source": [
    "**Version 3**: what if we try to compare to a zero vector?"
   ]
  },
  {
   "cell_type": "code",
   "execution_count": 69,
   "metadata": {
    "collapsed": false
   },
   "outputs": [
    {
     "name": "stdout",
     "output_type": "stream",
     "text": [
      "CPU times: user 18.9 s, sys: 49 ms, total: 18.9 s\n",
      "Wall time: 19 s\n"
     ]
    }
   ],
   "source": [
    "%%time\n",
    "\n",
    "count = 0\n",
    "v = np.zeros((28,28))\n",
    "for i in range(n):\n",
    "    for j in range(i+1,n):\n",
    "           if np.array_equal(myarr[i,:,:]-myarr[j,:,:], v):\n",
    "                count +=1"
   ]
  },
  {
   "cell_type": "code",
   "execution_count": 70,
   "metadata": {
    "collapsed": false
   },
   "outputs": [
    {
     "name": "stdout",
     "output_type": "stream",
     "text": [
      "103\n"
     ]
    }
   ],
   "source": [
    "print count"
   ]
  },
  {
   "cell_type": "markdown",
   "metadata": {},
   "source": [
    "**Version 4: **\n",
    "    what if we try to compare vectorized versions of the vector?"
   ]
  },
  {
   "cell_type": "code",
   "execution_count": 71,
   "metadata": {
    "collapsed": false
   },
   "outputs": [
    {
     "name": "stdout",
     "output_type": "stream",
     "text": [
      "CPU times: user 15.7 s, sys: 44 ms, total: 15.7 s\n",
      "Wall time: 15.8 s\n"
     ]
    }
   ],
   "source": [
    "%%time\n",
    "count = 0\n",
    "for i in range(n):\n",
    "    for j in range(i+1,n):\n",
    "           if np.array_equal(myarr[i,:,:].ravel(),myarr[j,:,:].ravel()):\n",
    "                count +=1"
   ]
  },
  {
   "cell_type": "code",
   "execution_count": 72,
   "metadata": {
    "collapsed": false
   },
   "outputs": [
    {
     "name": "stdout",
     "output_type": "stream",
     "text": [
      "103\n"
     ]
    }
   ],
   "source": [
    "print count"
   ]
  },
  {
   "cell_type": "markdown",
   "metadata": {},
   "source": [
    "**version 5:** if we select the python built-in version that checks for floating point errors, it's waaaayy longer"
   ]
  },
  {
   "cell_type": "code",
   "execution_count": 73,
   "metadata": {
    "collapsed": false
   },
   "outputs": [
    {
     "name": "stdout",
     "output_type": "stream",
     "text": [
      "CPU times: user 1min 29s, sys: 185 ms, total: 1min 29s\n",
      "Wall time: 1min 29s\n"
     ]
    }
   ],
   "source": [
    "%%time\n",
    "count = 0\n",
    "v = np.zeros((28,28))\n",
    "for i in range(n):\n",
    "    for j in range(i+1,n):\n",
    "           if np.allclose(myarr[i,:,:],myarr[j,:,:]):\n",
    "                count +=1"
   ]
  },
  {
   "cell_type": "code",
   "execution_count": 74,
   "metadata": {
    "collapsed": false
   },
   "outputs": [
    {
     "name": "stdout",
     "output_type": "stream",
     "text": [
      "103\n"
     ]
    }
   ],
   "source": [
    "print count"
   ]
  },
  {
   "cell_type": "markdown",
   "metadata": {},
   "source": [
    "________\n",
    "Now we try to build the array_equal function *from scratch*,  by checking the pixels one by one"
   ]
  },
  {
   "cell_type": "code",
   "execution_count": 75,
   "metadata": {
    "collapsed": true
   },
   "outputs": [],
   "source": [
    "def compare_line(n,myarr1,myarr2):\n",
    "    for k in xrange(n):\n",
    "        if not myarr1[k]==myarr2[k]:\n",
    "            return False\n",
    "    return True   \n",
    "    \n",
    "def compare_img(m,n,img1,img2):\n",
    "    for k in xrange(m):\n",
    "        if not compare_line(n,img1[k,:],img2[k,:]):\n",
    "            return False\n",
    "    return True    \n"
   ]
  },
  {
   "cell_type": "markdown",
   "metadata": {},
   "source": [
    "Let's see if it works on basic arrays"
   ]
  },
  {
   "cell_type": "code",
   "execution_count": 76,
   "metadata": {
    "collapsed": false
   },
   "outputs": [
    {
     "data": {
      "text/plain": [
       "False"
      ]
     },
     "execution_count": 76,
     "metadata": {},
     "output_type": "execute_result"
    }
   ],
   "source": [
    "compare_img(5,5,np.zeros((5,5)), np.ones((5,5)))"
   ]
  },
  {
   "cell_type": "code",
   "execution_count": 77,
   "metadata": {
    "collapsed": false
   },
   "outputs": [
    {
     "data": {
      "text/plain": [
       "True"
      ]
     },
     "execution_count": 77,
     "metadata": {},
     "output_type": "execute_result"
    }
   ],
   "source": [
    "compare_img(10,10,np.zeros((10,10)),np.zeros((10,10)))"
   ]
  },
  {
   "cell_type": "markdown",
   "metadata": {},
   "source": [
    "cool!\n",
    "...\n",
    "\n",
    "**version 6**: Let it run"
   ]
  },
  {
   "cell_type": "code",
   "execution_count": 78,
   "metadata": {
    "collapsed": false
   },
   "outputs": [
    {
     "name": "stdout",
     "output_type": "stream",
     "text": [
      "CPU times: user 5 s, sys: 22.1 ms, total: 5.02 s\n",
      "Wall time: 5.03 s\n"
     ]
    }
   ],
   "source": [
    "%%time\n",
    "count = 0\n",
    "\n",
    "for i in range(n):\n",
    "    for j in range(i+1,n):\n",
    "        if compare_img(28,28,myarr[i,:,:],myarr[j,:,:]):\n",
    "            count +=1"
   ]
  },
  {
   "cell_type": "code",
   "execution_count": 79,
   "metadata": {
    "collapsed": false
   },
   "outputs": [
    {
     "name": "stdout",
     "output_type": "stream",
     "text": [
      "103\n"
     ]
    }
   ],
   "source": [
    "print count"
   ]
  },
  {
   "cell_type": "markdown",
   "metadata": {},
   "source": [
    "**version 7:**\n",
    "    what if we both  vectorize and compare the pixels one at a time?"
   ]
  },
  {
   "cell_type": "code",
   "execution_count": 80,
   "metadata": {
    "collapsed": false
   },
   "outputs": [
    {
     "name": "stdout",
     "output_type": "stream",
     "text": [
      "CPU times: user 4.25 s, sys: 81 ms, total: 4.33 s\n",
      "Wall time: 4.27 s\n"
     ]
    }
   ],
   "source": [
    "%%time\n",
    "count = 0\n",
    "\n",
    "for i in range(n):\n",
    "    for j in range(i+1,n):\n",
    "        if compare_line(784,myarr[i,:,:].ravel(),myarr[j,:,:].ravel()):\n",
    "            count +=1"
   ]
  },
  {
   "cell_type": "code",
   "execution_count": 81,
   "metadata": {
    "collapsed": false
   },
   "outputs": [
    {
     "name": "stdout",
     "output_type": "stream",
     "text": [
      "103\n"
     ]
    }
   ],
   "source": [
    "print count"
   ]
  },
  {
   "cell_type": "code",
   "execution_count": null,
   "metadata": {
    "collapsed": true
   },
   "outputs": [],
   "source": []
  }
 ],
 "metadata": {
  "kernelspec": {
   "display_name": "Python 2",
   "language": "python",
   "name": "python2"
  },
  "language_info": {
   "codemirror_mode": {
    "name": "ipython",
    "version": 2
   },
   "file_extension": ".py",
   "mimetype": "text/x-python",
   "name": "python",
   "nbconvert_exporter": "python",
   "pygments_lexer": "ipython2",
   "version": "2.7.11"
  }
 },
 "nbformat": 4,
 "nbformat_minor": 0
}
