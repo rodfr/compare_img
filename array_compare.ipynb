{
 "cells": [
  {
   "cell_type": "markdown",
   "metadata": {},
   "source": [
    "### How to compare small images quickly?\n",
    "we'll try to see different ways to do this :-)"
   ]
  },
  {
   "cell_type": "code",
   "execution_count": 1,
   "metadata": {
    "collapsed": false
   },
   "outputs": [
    {
     "name": "stdout",
     "output_type": "stream",
     "text": [
      "2.7.11\n",
      "1.10.4 , 1.5.1\n"
     ]
    }
   ],
   "source": [
    "%matplotlib inline\n",
    "import time\n",
    "import numpy as np\n",
    "import matplotlib\n",
    "import matplotlib.pylab as plt\n",
    "import platform; print platform.python_version()\n",
    "print np.__version__,',', matplotlib.__version__"
   ]
  },
  {
   "cell_type": "markdown",
   "metadata": {},
   "source": [
    "We'll build n = 2000 images, n1 original images, and we'll stack n2 images which are repeated"
   ]
  },
  {
   "cell_type": "code",
   "execution_count": 38,
   "metadata": {
    "collapsed": true
   },
   "outputs": [],
   "source": [
    "n = 2000\n",
    "n1 = 1500\n",
    "n2 = 500"
   ]
  },
  {
   "cell_type": "code",
   "execution_count": 39,
   "metadata": {
    "collapsed": false
   },
   "outputs": [
    {
     "name": "stdout",
     "output_type": "stream",
     "text": [
      "[1051 1120  768  108 1404  858 1332 1091  183 1215  510   84  798  489  308\n",
      "   30  817  147 1107 1072  147   68  514 1288  493 1362  581  862  757  412\n",
      "  357  451 1231  114 1132    0 1003   46 1439  465  811  837 1320 1213  296\n",
      "  680 1491  549  664 1056  151  864  361 1492  926 1419  114  943  329 1435\n",
      "  655  753  852   81  780  166  475 1297 1145  897 1046 1216  322  149 1102\n",
      "  587  801 1238  825  201 1356  482 1158 1002  873  774  494  430 1129   14\n",
      " 1267 1040  880  219  407   94  319   39  952   81  175  966  252 1267 1196\n",
      " 1268 1469  773 1293 1037  660  638  368 1291 1138  258 1373  190  670  904\n",
      "  111  275 1193 1120  229   29  531  305  476 1048  877  871 1479  956  984\n",
      "  672  338  696  251   99 1373 1206 1214  257 1101 1111  354 1267  959 1392\n",
      " 1011  292 1404 1048 1211  362 1244  352  162 1487  767 1097  279  222 1070\n",
      " 1045  544 1392  806 1221  771 1024 1070  702 1354 1321  917  197  852   75\n",
      "  325 1363 1220   86  354 1235  259  316 1226  428  310  599  703  669   63\n",
      "  390 1387  540    7 1008  267  311  461 1406 1322  729  472  584 1386  734\n",
      " 1188 1304  468  945  155  920  643  433 1302  964  444  633  943  663  357\n",
      " 1487  468    6  126 1387 1105  373  724  431  702   72 1403  304  854  339\n",
      "   69  543 1364  691 1290  822  142 1165  908  119  425  983  897  932   55\n",
      "  588 1259  193 1103 1464  679 1267 1107  872 1168  282 1432   92  852  531\n",
      "  574   46  914  114  609  713 1105   85  718 1486 1211  763  820  182   98\n",
      " 1428 1155 1251   76  593 1086  409 1373  297  846  544 1081  715 1047  276\n",
      " 1342  465 1417  481  721  726  873  897  181  665 1302 1263 1282   95 1005\n",
      "   30  691  877 1220  579  709 1332  758   52  580  367  388  189 1421 1497\n",
      "  137 1223  799  408   25  117  293 1353  392 1311  234   21  530  836   44\n",
      " 1159  569 1227 1102   20  758 1348  208  547 1444  798 1071  522  295  379\n",
      " 1215  976 1449  167 1291  898  309 1197 1248 1365 1467   39 1001  283  285\n",
      "  206 1345 1077   79 1462  794 1222  160  847  648 1176  763  409  859 1163\n",
      "  133 1058  211  641 1412  631   45  367  468  235 1299  999 1394  645  461\n",
      "   73  891 1170 1288 1263  406    4  252  559  492  590  519  972  929  354\n",
      " 1260  984  289  216  392  392 1149  189  480  770  459  673 1407  646 1393\n",
      " 1338  244 1092 1421 1265   90  678 1004 1333 1220  230  928  353 1124  365\n",
      "  156  509  718  549  499 1148   89  127 1399  470  431  633 1267 1225  129\n",
      "  473 1472  886  669   50  422  400  831  283 1019  462  197  296  214 1311\n",
      "  405  743 1376  993  883  286  157  778  610  418  271 1132  758  471  424\n",
      "  388  691  545  744 1427]\n",
      "(2000, 28, 28)\n"
     ]
    }
   ],
   "source": [
    "myarr = np.random.rand(n1,28,28)\n",
    "rand_idx = np.random.randint(n1, size = n2)\n",
    "print rand_idx\n",
    "for k in rand_idx:\n",
    "    img = np.multiply(myarr[k,:,:],np.ones((1,28,28)))\n",
    "    #print img.shape,myarr.shape\n",
    "    myarr = np.vstack((myarr,img))\n",
    "print myarr.shape"
   ]
  },
  {
   "cell_type": "markdown",
   "metadata": {},
   "source": [
    "How are the repeated images distributed?"
   ]
  },
  {
   "cell_type": "code",
   "execution_count": 40,
   "metadata": {
    "collapsed": false
   },
   "outputs": [
    {
     "data": {
      "image/png": "[encoded data removed]",
      "text/plain": [
       "<matplotlib.figure.Figure at 0x102299fd0>"
      ]
     },
     "metadata": {},
     "output_type": "display_data"
    }
   ],
   "source": [
    "plt.hist(rand_idx, n1-1, facecolor='green', alpha=0.75);"
   ]
  },
  {
   "cell_type": "code",
   "execution_count": 41,
   "metadata": {
    "collapsed": false
   },
   "outputs": [
    {
     "data": {
      "text/plain": [
       "array([ 0.68361041,  0.02740142,  0.13246831,  0.94838054,  0.58269896,\n",
       "        0.64796919,  0.84251099,  0.42507798,  0.59084769,  0.09881576,\n",
       "        0.30302398,  0.52096907,  0.14094668,  0.20844201,  0.1221772 ,\n",
       "        0.20214162,  0.29145841,  0.08931281,  0.19686671,  0.0900719 ,\n",
       "        0.38998372,  0.7676181 ,  0.49798769,  0.89142609,  0.80726279,\n",
       "        0.67115542,  0.66574221,  0.49901874])"
      ]
     },
     "execution_count": 41,
     "metadata": {},
     "output_type": "execute_result"
    }
   ],
   "source": [
    "myarr[rand_idx[-1],0,:]"
   ]
  },
  {
   "cell_type": "code",
   "execution_count": 42,
   "metadata": {
    "collapsed": false
   },
   "outputs": [
    {
     "data": {
      "text/plain": [
       "array([ 0.68361041,  0.02740142,  0.13246831,  0.94838054,  0.58269896,\n",
       "        0.64796919,  0.84251099,  0.42507798,  0.59084769,  0.09881576,\n",
       "        0.30302398,  0.52096907,  0.14094668,  0.20844201,  0.1221772 ,\n",
       "        0.20214162,  0.29145841,  0.08931281,  0.19686671,  0.0900719 ,\n",
       "        0.38998372,  0.7676181 ,  0.49798769,  0.89142609,  0.80726279,\n",
       "        0.67115542,  0.66574221,  0.49901874])"
      ]
     },
     "execution_count": 42,
     "metadata": {},
     "output_type": "execute_result"
    }
   ],
   "source": [
    "myarr[1999,0,:]"
   ]
  },
  {
   "cell_type": "markdown",
   "metadata": {},
   "source": [
    "There is an array_equal numpy function, and we can be sure that it works with the help of np.imshow()"
   ]
  },
  {
   "cell_type": "code",
   "execution_count": 43,
   "metadata": {
    "collapsed": false
   },
   "outputs": [
    {
     "data": {
      "text/plain": [
       "True"
      ]
     },
     "execution_count": 43,
     "metadata": {},
     "output_type": "execute_result"
    }
   ],
   "source": [
    "np.array_equal(myarr[rand_idx[-1],:,:],myarr[1999,:,:])"
   ]
  },
  {
   "cell_type": "markdown",
   "metadata": {},
   "source": [
    "Convince yourself that the following are exactly the same images :-)"
   ]
  },
  {
   "cell_type": "code",
   "execution_count": 44,
   "metadata": {
    "collapsed": false
   },
   "outputs": [
    {
     "data": {
      "text/plain": [
       "<matplotlib.image.AxesImage at 0x10adf2d10>"
      ]
     },
     "execution_count": 44,
     "metadata": {},
     "output_type": "execute_result"
    },
    {
     "data": {
      "image/png": "[encoded data removed]",
      "text/plain": [
       "<matplotlib.figure.Figure at 0x115a51fd0>"
      ]
     },
     "metadata": {},
     "output_type": "display_data"
    }
   ],
   "source": [
    "plt.figure()\n",
    "plt.imshow(myarr[rand_idx[-1],:,:],interpolation='nearest')"
   ]
  },
  {
   "cell_type": "code",
   "execution_count": 45,
   "metadata": {
    "collapsed": false
   },
   "outputs": [
    {
     "data": {
      "text/plain": [
       "<matplotlib.image.AxesImage at 0x10c2d73d0>"
      ]
     },
     "execution_count": 45,
     "metadata": {},
     "output_type": "execute_result"
    },
    {
     "data": {
      "image/png": "[encoded data removed]",
      "text/plain": [
       "<matplotlib.figure.Figure at 0x115a41850>"
      ]
     },
     "metadata": {},
     "output_type": "display_data"
    }
   ],
   "source": [
    "plt.figure()\n",
    "plt.imshow(myarr[1999,:,:],interpolation='nearest')"
   ]
  },
  {
   "cell_type": "markdown",
   "metadata": {},
   "source": [
    "## Now let's see the times spent:\n",
    "_____\n",
    "\n",
    "**Version 1**: built-it function"
   ]
  },
  {
   "cell_type": "code",
   "execution_count": 78,
   "metadata": {
    "collapsed": false
   },
   "outputs": [
    {
     "name": "stdout",
     "output_type": "stream",
     "text": [
      "CPU times: user 14.8 s, sys: 25.3 ms, total: 14.9 s\n",
      "Wall time: 14.9 s\n"
     ]
    }
   ],
   "source": [
    "%%time\n",
    "\n",
    "count = 0\n",
    "for i in range(n):\n",
    "    for j in range(i+1,n):\n",
    "        if np.array_equal( myarr[i,:,:],myarr[j,:,:]):            \n",
    "            count +=1"
   ]
  },
  {
   "cell_type": "code",
   "execution_count": 79,
   "metadata": {
    "collapsed": false
   },
   "outputs": [
    {
     "name": "stdout",
     "output_type": "stream",
     "text": [
      "590\n"
     ]
    }
   ],
   "source": [
    "print count"
   ]
  },
  {
   "cell_type": "markdown",
   "metadata": {},
   "source": [
    "**Version 2**: what about doing a first check: let's compare one pixel"
   ]
  },
  {
   "cell_type": "code",
   "execution_count": 80,
   "metadata": {
    "collapsed": false
   },
   "outputs": [
    {
     "name": "stdout",
     "output_type": "stream",
     "text": [
      "CPU times: user 1.02 s, sys: 7.63 ms, total: 1.03 s\n",
      "Wall time: 1.03 s\n"
     ]
    }
   ],
   "source": [
    "%%time\n",
    "count = 0\n",
    "for i in range(n):\n",
    "    for j in range(i+1,n):\n",
    "        if myarr[i,0,0] ==myarr[j,0,0]:\n",
    "            if np.array_equal( myarr[i,:,:],myarr[j,:,:]):\n",
    "                count +=1"
   ]
  },
  {
   "cell_type": "code",
   "execution_count": 81,
   "metadata": {
    "collapsed": false
   },
   "outputs": [
    {
     "name": "stdout",
     "output_type": "stream",
     "text": [
      "590\n"
     ]
    }
   ],
   "source": [
    "print count"
   ]
  },
  {
   "cell_type": "markdown",
   "metadata": {},
   "source": [
    "**Version 3**: what if we try to compare to a zero vector?"
   ]
  },
  {
   "cell_type": "code",
   "execution_count": 50,
   "metadata": {
    "collapsed": false
   },
   "outputs": [
    {
     "name": "stdout",
     "output_type": "stream",
     "text": [
      "CPU times: user 19.4 s, sys: 45.1 ms, total: 19.4 s\n",
      "Wall time: 19.5 s\n"
     ]
    }
   ],
   "source": [
    "%%time\n",
    "\n",
    "count = 0\n",
    "v = np.zeros((28,28))\n",
    "for i in range(n):\n",
    "    for j in range(i+1,n):\n",
    "           if np.array_equal(myarr[i,:,:]-myarr[j,:,:], v):\n",
    "                count +=1"
   ]
  },
  {
   "cell_type": "code",
   "execution_count": 75,
   "metadata": {
    "collapsed": false
   },
   "outputs": [
    {
     "name": "stdout",
     "output_type": "stream",
     "text": [
      "1999000\n"
     ]
    }
   ],
   "source": [
    "print count"
   ]
  },
  {
   "cell_type": "markdown",
   "metadata": {},
   "source": [
    "**Version 4: **\n",
    "    what if we try to compare vectorized versions of the vector?"
   ]
  },
  {
   "cell_type": "code",
   "execution_count": 82,
   "metadata": {
    "collapsed": false
   },
   "outputs": [
    {
     "name": "stdout",
     "output_type": "stream",
     "text": [
      "CPU times: user 15 s, sys: 23.1 ms, total: 15 s\n",
      "Wall time: 15 s\n"
     ]
    }
   ],
   "source": [
    "%%time\n",
    "count = 0\n",
    "for i in range(n):\n",
    "    for j in range(i+1,n):\n",
    "           if np.array_equal(myarr[i,:,:].ravel(),myarr[j,:,:].ravel()):\n",
    "                count +=1"
   ]
  },
  {
   "cell_type": "code",
   "execution_count": 83,
   "metadata": {
    "collapsed": false
   },
   "outputs": [
    {
     "name": "stdout",
     "output_type": "stream",
     "text": [
      "590\n"
     ]
    }
   ],
   "source": [
    "print count"
   ]
  },
  {
   "cell_type": "markdown",
   "metadata": {},
   "source": [
    "**version 5:** if we select the python built-in version that checks for floating point errors, it's waaaayy longer"
   ]
  },
  {
   "cell_type": "code",
   "execution_count": 54,
   "metadata": {
    "collapsed": false
   },
   "outputs": [
    {
     "name": "stdout",
     "output_type": "stream",
     "text": [
      "CPU times: user 1min 29s, sys: 144 ms, total: 1min 30s\n",
      "Wall time: 1min 30s\n"
     ]
    }
   ],
   "source": [
    "%%time\n",
    "count = 0\n",
    "v = np.zeros((28,28))\n",
    "for i in range(n):\n",
    "    for j in range(i+1,n):\n",
    "           if np.allclose(myarr[i,:,:],myarr[j,:,:]):\n",
    "                count +=1"
   ]
  },
  {
   "cell_type": "code",
   "execution_count": 73,
   "metadata": {
    "collapsed": false
   },
   "outputs": [
    {
     "name": "stdout",
     "output_type": "stream",
     "text": [
      "1999000\n"
     ]
    }
   ],
   "source": [
    "print count"
   ]
  },
  {
   "cell_type": "markdown",
   "metadata": {},
   "source": [
    "________\n",
    "Now we try to build the array_equal function *from scratch*,  by checking the pixels one by one"
   ]
  },
  {
   "cell_type": "code",
   "execution_count": 56,
   "metadata": {
    "collapsed": true
   },
   "outputs": [],
   "source": [
    "def compare_line(n,myarr1,myarr2):\n",
    "    for k in xrange(n):\n",
    "        if not myarr1[k]==myarr2[k]:\n",
    "            return False\n",
    "    return True   \n",
    "    \n",
    "def compare_img(m,n,img1,img2):\n",
    "    for k in xrange(m):\n",
    "        if not compare_line(n,img1[k,:],img2[k,:]):\n",
    "            return False\n",
    "    return True    \n"
   ]
  },
  {
   "cell_type": "markdown",
   "metadata": {},
   "source": [
    "Let's see if it works on basic arrays"
   ]
  },
  {
   "cell_type": "code",
   "execution_count": 57,
   "metadata": {
    "collapsed": false
   },
   "outputs": [
    {
     "data": {
      "text/plain": [
       "False"
      ]
     },
     "execution_count": 57,
     "metadata": {},
     "output_type": "execute_result"
    }
   ],
   "source": [
    "compare_img(5,5,np.zeros((5,5)), np.ones((5,5)))"
   ]
  },
  {
   "cell_type": "code",
   "execution_count": 58,
   "metadata": {
    "collapsed": false
   },
   "outputs": [
    {
     "data": {
      "text/plain": [
       "True"
      ]
     },
     "execution_count": 58,
     "metadata": {},
     "output_type": "execute_result"
    }
   ],
   "source": [
    "compare_img(10,10,np.zeros((10,10)),np.zeros((10,10)))"
   ]
  },
  {
   "cell_type": "markdown",
   "metadata": {},
   "source": [
    "cool!\n",
    "...\n",
    "\n",
    "**version 6**: Let it run"
   ]
  },
  {
   "cell_type": "code",
   "execution_count": 84,
   "metadata": {
    "collapsed": false
   },
   "outputs": [
    {
     "name": "stdout",
     "output_type": "stream",
     "text": [
      "CPU times: user 5.19 s, sys: 13.3 ms, total: 5.21 s\n",
      "Wall time: 5.2 s\n"
     ]
    }
   ],
   "source": [
    "%%time\n",
    "count = 0\n",
    "\n",
    "for i in range(n):\n",
    "    for j in range(i+1,n):\n",
    "        if compare_img(28,28,myarr[i,:,:],myarr[j,:,:]):\n",
    "            count +=1"
   ]
  },
  {
   "cell_type": "code",
   "execution_count": 85,
   "metadata": {
    "collapsed": false
   },
   "outputs": [
    {
     "name": "stdout",
     "output_type": "stream",
     "text": [
      "590\n"
     ]
    }
   ],
   "source": [
    "print count"
   ]
  },
  {
   "cell_type": "markdown",
   "metadata": {},
   "source": [
    "**version 7:**\n",
    "    what if we both  vectorize and compare the pixels one at a time?"
   ]
  },
  {
   "cell_type": "code",
   "execution_count": 88,
   "metadata": {
    "collapsed": false
   },
   "outputs": [
    {
     "name": "stdout",
     "output_type": "stream",
     "text": [
      "CPU times: user 4.45 s, sys: 61.6 ms, total: 4.52 s\n",
      "Wall time: 4.47 s\n"
     ]
    }
   ],
   "source": [
    "%%time\n",
    "count = 0\n",
    "\n",
    "for i in range(n):\n",
    "    for j in range(i+1,n):\n",
    "        if compare_line(784,myarr[i,:,:].ravel(),myarr[j,:,:].ravel()):\n",
    "            count +=1"
   ]
  },
  {
   "cell_type": "code",
   "execution_count": 89,
   "metadata": {
    "collapsed": false
   },
   "outputs": [
    {
     "name": "stdout",
     "output_type": "stream",
     "text": [
      "590\n"
     ]
    }
   ],
   "source": [
    "print count"
   ]
  },
  {
   "cell_type": "markdown",
   "metadata": {
    "collapsed": true
   },
   "source": [
    "**version 8**\n",
    "Hash technique:"
   ]
  },
  {
   "cell_type": "code",
   "execution_count": 63,
   "metadata": {
    "collapsed": false
   },
   "outputs": [
    {
     "name": "stdout",
     "output_type": "stream",
     "text": [
      "CPU times: user 28.9 s, sys: 113 ms, total: 29 s\n",
      "Wall time: 29.1 s\n"
     ]
    }
   ],
   "source": [
    "%%time \n",
    "\n",
    "set_valid_dataset = set([hash(str(myarr[i,:,:])) for i in xrange(n)])"
   ]
  },
  {
   "cell_type": "code",
   "execution_count": 64,
   "metadata": {
    "collapsed": false
   },
   "outputs": [
    {
     "data": {
      "text/plain": [
       "1500"
      ]
     },
     "execution_count": 64,
     "metadata": {},
     "output_type": "execute_result"
    }
   ],
   "source": [
    "len(set_valid_dataset)"
   ]
  },
  {
   "cell_type": "markdown",
   "metadata": {},
   "source": [
    "**version 9** Hashtrick + hexdigest!"
   ]
  },
  {
   "cell_type": "code",
   "execution_count": 65,
   "metadata": {
    "collapsed": true
   },
   "outputs": [],
   "source": [
    "from hashlib import md5"
   ]
  },
  {
   "cell_type": "code",
   "execution_count": 66,
   "metadata": {
    "collapsed": false
   },
   "outputs": [
    {
     "name": "stdout",
     "output_type": "stream",
     "text": [
      "CPU times: user 43.3 ms, sys: 760 µs, total: 44 ms\n",
      "Wall time: 43.4 ms\n"
     ]
    }
   ],
   "source": [
    "%%time \n",
    "set_valid_dataset_2 = set([ md5(myarr[i,:,:]).hexdigest()  for i in xrange(n)])"
   ]
  },
  {
   "cell_type": "code",
   "execution_count": 90,
   "metadata": {
    "collapsed": false
   },
   "outputs": [
    {
     "data": {
      "text/plain": [
       "1500"
      ]
     },
     "execution_count": 90,
     "metadata": {},
     "output_type": "execute_result"
    }
   ],
   "source": [
    "len(set_valid_dataset_2)"
   ]
  },
  {
   "cell_type": "code",
   "execution_count": 95,
   "metadata": {
    "collapsed": false
   },
   "outputs": [
    {
     "name": "stdout",
     "output_type": "stream",
     "text": [
      "CPU times: user 1min 17s, sys: 123 ms, total: 1min 17s\n",
      "Wall time: 1min 17s\n"
     ]
    }
   ],
   "source": [
    "%%time\n",
    "count = 0\n",
    "\n",
    "for i in range(n):\n",
    "    for j in range(i+1,n):\n",
    "        if md5(myarr[i,:,:]).hexdigest()== md5(myarr[j,:,:]).hexdigest():\n",
    "            count +=1"
   ]
  },
  {
   "cell_type": "code",
   "execution_count": 96,
   "metadata": {
    "collapsed": false
   },
   "outputs": [
    {
     "name": "stdout",
     "output_type": "stream",
     "text": [
      "590\n"
     ]
    }
   ],
   "source": [
    "print count"
   ]
  },
  {
   "cell_type": "code",
   "execution_count": null,
   "metadata": {
    "collapsed": true
   },
   "outputs": [],
   "source": []
  }
 ],
 "metadata": {
  "kernelspec": {
   "display_name": "Python 2",
   "language": "python",
   "name": "python2"
  },
  "language_info": {
   "codemirror_mode": {
    "name": "ipython",
    "version": 2
   },
   "file_extension": ".py",
   "mimetype": "text/x-python",
   "name": "python",
   "nbconvert_exporter": "python",
   "pygments_lexer": "ipython2",
   "version": "2.7.11"
  }
 },
 "nbformat": 4,
 "nbformat_minor": 0
}
